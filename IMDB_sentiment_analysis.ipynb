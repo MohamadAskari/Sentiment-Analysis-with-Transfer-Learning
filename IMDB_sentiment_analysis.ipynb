{
  "nbformat": 4,
  "nbformat_minor": 0,
  "metadata": {
    "colab": {
      "provenance": [],
      "collapsed_sections": []
    },
    "kernelspec": {
      "name": "python3",
      "display_name": "Python 3"
    },
    "language_info": {
      "name": "python"
    },
    "accelerator": "GPU",
    "gpuClass": "standard",
    "widgets": {
      "application/vnd.jupyter.widget-state+json": {
        "6052de46d74a4be4b64b8e92be630523": {
          "model_module": "@jupyter-widgets/controls",
          "model_name": "HBoxModel",
          "model_module_version": "1.5.0",
          "state": {
            "_dom_classes": [],
            "_model_module": "@jupyter-widgets/controls",
            "_model_module_version": "1.5.0",
            "_model_name": "HBoxModel",
            "_view_count": null,
            "_view_module": "@jupyter-widgets/controls",
            "_view_module_version": "1.5.0",
            "_view_name": "HBoxView",
            "box_style": "",
            "children": [
              "IPY_MODEL_68b69ce1b4524c33aecc7e6ae76a4187",
              "IPY_MODEL_8d09af5b74cf4f8f8ebd49acb501cc4c",
              "IPY_MODEL_e1cca1f013734323a0b485a1c087ef4f"
            ],
            "layout": "IPY_MODEL_5c3e215a6e214c679e7970724adb72da"
          }
        },
        "68b69ce1b4524c33aecc7e6ae76a4187": {
          "model_module": "@jupyter-widgets/controls",
          "model_name": "HTMLModel",
          "model_module_version": "1.5.0",
          "state": {
            "_dom_classes": [],
            "_model_module": "@jupyter-widgets/controls",
            "_model_module_version": "1.5.0",
            "_model_name": "HTMLModel",
            "_view_count": null,
            "_view_module": "@jupyter-widgets/controls",
            "_view_module_version": "1.5.0",
            "_view_name": "HTMLView",
            "description": "",
            "description_tooltip": null,
            "layout": "IPY_MODEL_735ddad6819b4825950f46d964eef80f",
            "placeholder": "​",
            "style": "IPY_MODEL_5976e2c7d353471aac09f3ad5b37a17e",
            "value": "Downloading: 100%"
          }
        },
        "8d09af5b74cf4f8f8ebd49acb501cc4c": {
          "model_module": "@jupyter-widgets/controls",
          "model_name": "FloatProgressModel",
          "model_module_version": "1.5.0",
          "state": {
            "_dom_classes": [],
            "_model_module": "@jupyter-widgets/controls",
            "_model_module_version": "1.5.0",
            "_model_name": "FloatProgressModel",
            "_view_count": null,
            "_view_module": "@jupyter-widgets/controls",
            "_view_module_version": "1.5.0",
            "_view_name": "ProgressView",
            "bar_style": "success",
            "description": "",
            "description_tooltip": null,
            "layout": "IPY_MODEL_f040ccb1d3aa4f9f9278aa6495e35aaf",
            "max": 615,
            "min": 0,
            "orientation": "horizontal",
            "style": "IPY_MODEL_0268d8b2cea64656bab2196a29f8919d",
            "value": 615
          }
        },
        "e1cca1f013734323a0b485a1c087ef4f": {
          "model_module": "@jupyter-widgets/controls",
          "model_name": "HTMLModel",
          "model_module_version": "1.5.0",
          "state": {
            "_dom_classes": [],
            "_model_module": "@jupyter-widgets/controls",
            "_model_module_version": "1.5.0",
            "_model_name": "HTMLModel",
            "_view_count": null,
            "_view_module": "@jupyter-widgets/controls",
            "_view_module_version": "1.5.0",
            "_view_name": "HTMLView",
            "description": "",
            "description_tooltip": null,
            "layout": "IPY_MODEL_f7fbcd754b77471d9ce17a4b01f8103d",
            "placeholder": "​",
            "style": "IPY_MODEL_5dc24840192b4a258a91cc5a6149fe5b",
            "value": " 615/615 [00:00&lt;00:00, 15.7kB/s]"
          }
        },
        "5c3e215a6e214c679e7970724adb72da": {
          "model_module": "@jupyter-widgets/base",
          "model_name": "LayoutModel",
          "model_module_version": "1.2.0",
          "state": {
            "_model_module": "@jupyter-widgets/base",
            "_model_module_version": "1.2.0",
            "_model_name": "LayoutModel",
            "_view_count": null,
            "_view_module": "@jupyter-widgets/base",
            "_view_module_version": "1.2.0",
            "_view_name": "LayoutView",
            "align_content": null,
            "align_items": null,
            "align_self": null,
            "border": null,
            "bottom": null,
            "display": null,
            "flex": null,
            "flex_flow": null,
            "grid_area": null,
            "grid_auto_columns": null,
            "grid_auto_flow": null,
            "grid_auto_rows": null,
            "grid_column": null,
            "grid_gap": null,
            "grid_row": null,
            "grid_template_areas": null,
            "grid_template_columns": null,
            "grid_template_rows": null,
            "height": null,
            "justify_content": null,
            "justify_items": null,
            "left": null,
            "margin": null,
            "max_height": null,
            "max_width": null,
            "min_height": null,
            "min_width": null,
            "object_fit": null,
            "object_position": null,
            "order": null,
            "overflow": null,
            "overflow_x": null,
            "overflow_y": null,
            "padding": null,
            "right": null,
            "top": null,
            "visibility": null,
            "width": null
          }
        },
        "735ddad6819b4825950f46d964eef80f": {
          "model_module": "@jupyter-widgets/base",
          "model_name": "LayoutModel",
          "model_module_version": "1.2.0",
          "state": {
            "_model_module": "@jupyter-widgets/base",
            "_model_module_version": "1.2.0",
            "_model_name": "LayoutModel",
            "_view_count": null,
            "_view_module": "@jupyter-widgets/base",
            "_view_module_version": "1.2.0",
            "_view_name": "LayoutView",
            "align_content": null,
            "align_items": null,
            "align_self": null,
            "border": null,
            "bottom": null,
            "display": null,
            "flex": null,
            "flex_flow": null,
            "grid_area": null,
            "grid_auto_columns": null,
            "grid_auto_flow": null,
            "grid_auto_rows": null,
            "grid_column": null,
            "grid_gap": null,
            "grid_row": null,
            "grid_template_areas": null,
            "grid_template_columns": null,
            "grid_template_rows": null,
            "height": null,
            "justify_content": null,
            "justify_items": null,
            "left": null,
            "margin": null,
            "max_height": null,
            "max_width": null,
            "min_height": null,
            "min_width": null,
            "object_fit": null,
            "object_position": null,
            "order": null,
            "overflow": null,
            "overflow_x": null,
            "overflow_y": null,
            "padding": null,
            "right": null,
            "top": null,
            "visibility": null,
            "width": null
          }
        },
        "5976e2c7d353471aac09f3ad5b37a17e": {
          "model_module": "@jupyter-widgets/controls",
          "model_name": "DescriptionStyleModel",
          "model_module_version": "1.5.0",
          "state": {
            "_model_module": "@jupyter-widgets/controls",
            "_model_module_version": "1.5.0",
            "_model_name": "DescriptionStyleModel",
            "_view_count": null,
            "_view_module": "@jupyter-widgets/base",
            "_view_module_version": "1.2.0",
            "_view_name": "StyleView",
            "description_width": ""
          }
        },
        "f040ccb1d3aa4f9f9278aa6495e35aaf": {
          "model_module": "@jupyter-widgets/base",
          "model_name": "LayoutModel",
          "model_module_version": "1.2.0",
          "state": {
            "_model_module": "@jupyter-widgets/base",
            "_model_module_version": "1.2.0",
            "_model_name": "LayoutModel",
            "_view_count": null,
            "_view_module": "@jupyter-widgets/base",
            "_view_module_version": "1.2.0",
            "_view_name": "LayoutView",
            "align_content": null,
            "align_items": null,
            "align_self": null,
            "border": null,
            "bottom": null,
            "display": null,
            "flex": null,
            "flex_flow": null,
            "grid_area": null,
            "grid_auto_columns": null,
            "grid_auto_flow": null,
            "grid_auto_rows": null,
            "grid_column": null,
            "grid_gap": null,
            "grid_row": null,
            "grid_template_areas": null,
            "grid_template_columns": null,
            "grid_template_rows": null,
            "height": null,
            "justify_content": null,
            "justify_items": null,
            "left": null,
            "margin": null,
            "max_height": null,
            "max_width": null,
            "min_height": null,
            "min_width": null,
            "object_fit": null,
            "object_position": null,
            "order": null,
            "overflow": null,
            "overflow_x": null,
            "overflow_y": null,
            "padding": null,
            "right": null,
            "top": null,
            "visibility": null,
            "width": null
          }
        },
        "0268d8b2cea64656bab2196a29f8919d": {
          "model_module": "@jupyter-widgets/controls",
          "model_name": "ProgressStyleModel",
          "model_module_version": "1.5.0",
          "state": {
            "_model_module": "@jupyter-widgets/controls",
            "_model_module_version": "1.5.0",
            "_model_name": "ProgressStyleModel",
            "_view_count": null,
            "_view_module": "@jupyter-widgets/base",
            "_view_module_version": "1.2.0",
            "_view_name": "StyleView",
            "bar_color": null,
            "description_width": ""
          }
        },
        "f7fbcd754b77471d9ce17a4b01f8103d": {
          "model_module": "@jupyter-widgets/base",
          "model_name": "LayoutModel",
          "model_module_version": "1.2.0",
          "state": {
            "_model_module": "@jupyter-widgets/base",
            "_model_module_version": "1.2.0",
            "_model_name": "LayoutModel",
            "_view_count": null,
            "_view_module": "@jupyter-widgets/base",
            "_view_module_version": "1.2.0",
            "_view_name": "LayoutView",
            "align_content": null,
            "align_items": null,
            "align_self": null,
            "border": null,
            "bottom": null,
            "display": null,
            "flex": null,
            "flex_flow": null,
            "grid_area": null,
            "grid_auto_columns": null,
            "grid_auto_flow": null,
            "grid_auto_rows": null,
            "grid_column": null,
            "grid_gap": null,
            "grid_row": null,
            "grid_template_areas": null,
            "grid_template_columns": null,
            "grid_template_rows": null,
            "height": null,
            "justify_content": null,
            "justify_items": null,
            "left": null,
            "margin": null,
            "max_height": null,
            "max_width": null,
            "min_height": null,
            "min_width": null,
            "object_fit": null,
            "object_position": null,
            "order": null,
            "overflow": null,
            "overflow_x": null,
            "overflow_y": null,
            "padding": null,
            "right": null,
            "top": null,
            "visibility": null,
            "width": null
          }
        },
        "5dc24840192b4a258a91cc5a6149fe5b": {
          "model_module": "@jupyter-widgets/controls",
          "model_name": "DescriptionStyleModel",
          "model_module_version": "1.5.0",
          "state": {
            "_model_module": "@jupyter-widgets/controls",
            "_model_module_version": "1.5.0",
            "_model_name": "DescriptionStyleModel",
            "_view_count": null,
            "_view_module": "@jupyter-widgets/base",
            "_view_module_version": "1.2.0",
            "_view_name": "StyleView",
            "description_width": ""
          }
        },
        "d3a3fa54e2f5436e8756a56dc9e43ebb": {
          "model_module": "@jupyter-widgets/controls",
          "model_name": "HBoxModel",
          "model_module_version": "1.5.0",
          "state": {
            "_dom_classes": [],
            "_model_module": "@jupyter-widgets/controls",
            "_model_module_version": "1.5.0",
            "_model_name": "HBoxModel",
            "_view_count": null,
            "_view_module": "@jupyter-widgets/controls",
            "_view_module_version": "1.5.0",
            "_view_name": "HBoxView",
            "box_style": "",
            "children": [
              "IPY_MODEL_e85853589e1b43aca6abffa55e169c83",
              "IPY_MODEL_e940d970dba442acab9918dd547a13fd",
              "IPY_MODEL_f79e14e5f9fe42c58144dabb2ea6b3bb"
            ],
            "layout": "IPY_MODEL_5814fe61bc5f41718050c3932ee578f8"
          }
        },
        "e85853589e1b43aca6abffa55e169c83": {
          "model_module": "@jupyter-widgets/controls",
          "model_name": "HTMLModel",
          "model_module_version": "1.5.0",
          "state": {
            "_dom_classes": [],
            "_model_module": "@jupyter-widgets/controls",
            "_model_module_version": "1.5.0",
            "_model_name": "HTMLModel",
            "_view_count": null,
            "_view_module": "@jupyter-widgets/controls",
            "_view_module_version": "1.5.0",
            "_view_name": "HTMLView",
            "description": "",
            "description_tooltip": null,
            "layout": "IPY_MODEL_f8f823a63c834f639d35bef339c3e0fb",
            "placeholder": "​",
            "style": "IPY_MODEL_628f0b6b15ff4cf7ab59b2adf95188a0",
            "value": "Downloading: 100%"
          }
        },
        "e940d970dba442acab9918dd547a13fd": {
          "model_module": "@jupyter-widgets/controls",
          "model_name": "FloatProgressModel",
          "model_module_version": "1.5.0",
          "state": {
            "_dom_classes": [],
            "_model_module": "@jupyter-widgets/controls",
            "_model_module_version": "1.5.0",
            "_model_name": "FloatProgressModel",
            "_view_count": null,
            "_view_module": "@jupyter-widgets/controls",
            "_view_module_version": "1.5.0",
            "_view_name": "ProgressView",
            "bar_style": "success",
            "description": "",
            "description_tooltip": null,
            "layout": "IPY_MODEL_9b048e46f3e948979b65183f29fd28e7",
            "max": 1115590446,
            "min": 0,
            "orientation": "horizontal",
            "style": "IPY_MODEL_4fa696496bc3461e9ea28b0b1d8918ff",
            "value": 1115590446
          }
        },
        "f79e14e5f9fe42c58144dabb2ea6b3bb": {
          "model_module": "@jupyter-widgets/controls",
          "model_name": "HTMLModel",
          "model_module_version": "1.5.0",
          "state": {
            "_dom_classes": [],
            "_model_module": "@jupyter-widgets/controls",
            "_model_module_version": "1.5.0",
            "_model_name": "HTMLModel",
            "_view_count": null,
            "_view_module": "@jupyter-widgets/controls",
            "_view_module_version": "1.5.0",
            "_view_name": "HTMLView",
            "description": "",
            "description_tooltip": null,
            "layout": "IPY_MODEL_c394f739a79642a5a669dc5fb94be7e1",
            "placeholder": "​",
            "style": "IPY_MODEL_af49310948c64f8aa6e337d48ca7742e",
            "value": " 1.12G/1.12G [00:18&lt;00:00, 63.1MB/s]"
          }
        },
        "5814fe61bc5f41718050c3932ee578f8": {
          "model_module": "@jupyter-widgets/base",
          "model_name": "LayoutModel",
          "model_module_version": "1.2.0",
          "state": {
            "_model_module": "@jupyter-widgets/base",
            "_model_module_version": "1.2.0",
            "_model_name": "LayoutModel",
            "_view_count": null,
            "_view_module": "@jupyter-widgets/base",
            "_view_module_version": "1.2.0",
            "_view_name": "LayoutView",
            "align_content": null,
            "align_items": null,
            "align_self": null,
            "border": null,
            "bottom": null,
            "display": null,
            "flex": null,
            "flex_flow": null,
            "grid_area": null,
            "grid_auto_columns": null,
            "grid_auto_flow": null,
            "grid_auto_rows": null,
            "grid_column": null,
            "grid_gap": null,
            "grid_row": null,
            "grid_template_areas": null,
            "grid_template_columns": null,
            "grid_template_rows": null,
            "height": null,
            "justify_content": null,
            "justify_items": null,
            "left": null,
            "margin": null,
            "max_height": null,
            "max_width": null,
            "min_height": null,
            "min_width": null,
            "object_fit": null,
            "object_position": null,
            "order": null,
            "overflow": null,
            "overflow_x": null,
            "overflow_y": null,
            "padding": null,
            "right": null,
            "top": null,
            "visibility": null,
            "width": null
          }
        },
        "f8f823a63c834f639d35bef339c3e0fb": {
          "model_module": "@jupyter-widgets/base",
          "model_name": "LayoutModel",
          "model_module_version": "1.2.0",
          "state": {
            "_model_module": "@jupyter-widgets/base",
            "_model_module_version": "1.2.0",
            "_model_name": "LayoutModel",
            "_view_count": null,
            "_view_module": "@jupyter-widgets/base",
            "_view_module_version": "1.2.0",
            "_view_name": "LayoutView",
            "align_content": null,
            "align_items": null,
            "align_self": null,
            "border": null,
            "bottom": null,
            "display": null,
            "flex": null,
            "flex_flow": null,
            "grid_area": null,
            "grid_auto_columns": null,
            "grid_auto_flow": null,
            "grid_auto_rows": null,
            "grid_column": null,
            "grid_gap": null,
            "grid_row": null,
            "grid_template_areas": null,
            "grid_template_columns": null,
            "grid_template_rows": null,
            "height": null,
            "justify_content": null,
            "justify_items": null,
            "left": null,
            "margin": null,
            "max_height": null,
            "max_width": null,
            "min_height": null,
            "min_width": null,
            "object_fit": null,
            "object_position": null,
            "order": null,
            "overflow": null,
            "overflow_x": null,
            "overflow_y": null,
            "padding": null,
            "right": null,
            "top": null,
            "visibility": null,
            "width": null
          }
        },
        "628f0b6b15ff4cf7ab59b2adf95188a0": {
          "model_module": "@jupyter-widgets/controls",
          "model_name": "DescriptionStyleModel",
          "model_module_version": "1.5.0",
          "state": {
            "_model_module": "@jupyter-widgets/controls",
            "_model_module_version": "1.5.0",
            "_model_name": "DescriptionStyleModel",
            "_view_count": null,
            "_view_module": "@jupyter-widgets/base",
            "_view_module_version": "1.2.0",
            "_view_name": "StyleView",
            "description_width": ""
          }
        },
        "9b048e46f3e948979b65183f29fd28e7": {
          "model_module": "@jupyter-widgets/base",
          "model_name": "LayoutModel",
          "model_module_version": "1.2.0",
          "state": {
            "_model_module": "@jupyter-widgets/base",
            "_model_module_version": "1.2.0",
            "_model_name": "LayoutModel",
            "_view_count": null,
            "_view_module": "@jupyter-widgets/base",
            "_view_module_version": "1.2.0",
            "_view_name": "LayoutView",
            "align_content": null,
            "align_items": null,
            "align_self": null,
            "border": null,
            "bottom": null,
            "display": null,
            "flex": null,
            "flex_flow": null,
            "grid_area": null,
            "grid_auto_columns": null,
            "grid_auto_flow": null,
            "grid_auto_rows": null,
            "grid_column": null,
            "grid_gap": null,
            "grid_row": null,
            "grid_template_areas": null,
            "grid_template_columns": null,
            "grid_template_rows": null,
            "height": null,
            "justify_content": null,
            "justify_items": null,
            "left": null,
            "margin": null,
            "max_height": null,
            "max_width": null,
            "min_height": null,
            "min_width": null,
            "object_fit": null,
            "object_position": null,
            "order": null,
            "overflow": null,
            "overflow_x": null,
            "overflow_y": null,
            "padding": null,
            "right": null,
            "top": null,
            "visibility": null,
            "width": null
          }
        },
        "4fa696496bc3461e9ea28b0b1d8918ff": {
          "model_module": "@jupyter-widgets/controls",
          "model_name": "ProgressStyleModel",
          "model_module_version": "1.5.0",
          "state": {
            "_model_module": "@jupyter-widgets/controls",
            "_model_module_version": "1.5.0",
            "_model_name": "ProgressStyleModel",
            "_view_count": null,
            "_view_module": "@jupyter-widgets/base",
            "_view_module_version": "1.2.0",
            "_view_name": "StyleView",
            "bar_color": null,
            "description_width": ""
          }
        },
        "c394f739a79642a5a669dc5fb94be7e1": {
          "model_module": "@jupyter-widgets/base",
          "model_name": "LayoutModel",
          "model_module_version": "1.2.0",
          "state": {
            "_model_module": "@jupyter-widgets/base",
            "_model_module_version": "1.2.0",
            "_model_name": "LayoutModel",
            "_view_count": null,
            "_view_module": "@jupyter-widgets/base",
            "_view_module_version": "1.2.0",
            "_view_name": "LayoutView",
            "align_content": null,
            "align_items": null,
            "align_self": null,
            "border": null,
            "bottom": null,
            "display": null,
            "flex": null,
            "flex_flow": null,
            "grid_area": null,
            "grid_auto_columns": null,
            "grid_auto_flow": null,
            "grid_auto_rows": null,
            "grid_column": null,
            "grid_gap": null,
            "grid_row": null,
            "grid_template_areas": null,
            "grid_template_columns": null,
            "grid_template_rows": null,
            "height": null,
            "justify_content": null,
            "justify_items": null,
            "left": null,
            "margin": null,
            "max_height": null,
            "max_width": null,
            "min_height": null,
            "min_width": null,
            "object_fit": null,
            "object_position": null,
            "order": null,
            "overflow": null,
            "overflow_x": null,
            "overflow_y": null,
            "padding": null,
            "right": null,
            "top": null,
            "visibility": null,
            "width": null
          }
        },
        "af49310948c64f8aa6e337d48ca7742e": {
          "model_module": "@jupyter-widgets/controls",
          "model_name": "DescriptionStyleModel",
          "model_module_version": "1.5.0",
          "state": {
            "_model_module": "@jupyter-widgets/controls",
            "_model_module_version": "1.5.0",
            "_model_name": "DescriptionStyleModel",
            "_view_count": null,
            "_view_module": "@jupyter-widgets/base",
            "_view_module_version": "1.2.0",
            "_view_name": "StyleView",
            "description_width": ""
          }
        },
        "5bd6b4df39e84ad8974d130e33c27f85": {
          "model_module": "@jupyter-widgets/controls",
          "model_name": "HBoxModel",
          "model_module_version": "1.5.0",
          "state": {
            "_dom_classes": [],
            "_model_module": "@jupyter-widgets/controls",
            "_model_module_version": "1.5.0",
            "_model_name": "HBoxModel",
            "_view_count": null,
            "_view_module": "@jupyter-widgets/controls",
            "_view_module_version": "1.5.0",
            "_view_name": "HBoxView",
            "box_style": "",
            "children": [
              "IPY_MODEL_2e3d512dca56446cae65fa30a7288c08",
              "IPY_MODEL_a2fe147f194642fe8a33aab829488504",
              "IPY_MODEL_19daedb026b440e1bd4483b3b63dff16"
            ],
            "layout": "IPY_MODEL_84c77cbdc0674551a56999b79bd5f16f"
          }
        },
        "2e3d512dca56446cae65fa30a7288c08": {
          "model_module": "@jupyter-widgets/controls",
          "model_name": "HTMLModel",
          "model_module_version": "1.5.0",
          "state": {
            "_dom_classes": [],
            "_model_module": "@jupyter-widgets/controls",
            "_model_module_version": "1.5.0",
            "_model_name": "HTMLModel",
            "_view_count": null,
            "_view_module": "@jupyter-widgets/controls",
            "_view_module_version": "1.5.0",
            "_view_name": "HTMLView",
            "description": "",
            "description_tooltip": null,
            "layout": "IPY_MODEL_8277081ae4174d1a97bb63a77f46b2ba",
            "placeholder": "​",
            "style": "IPY_MODEL_614b71aabb1d4252a03e6e9640e4004b",
            "value": "Downloading: 100%"
          }
        },
        "a2fe147f194642fe8a33aab829488504": {
          "model_module": "@jupyter-widgets/controls",
          "model_name": "FloatProgressModel",
          "model_module_version": "1.5.0",
          "state": {
            "_dom_classes": [],
            "_model_module": "@jupyter-widgets/controls",
            "_model_module_version": "1.5.0",
            "_model_name": "FloatProgressModel",
            "_view_count": null,
            "_view_module": "@jupyter-widgets/controls",
            "_view_module_version": "1.5.0",
            "_view_name": "ProgressView",
            "bar_style": "success",
            "description": "",
            "description_tooltip": null,
            "layout": "IPY_MODEL_23501ea66c9b4f6ab458a15b6fe2502a",
            "max": 5069051,
            "min": 0,
            "orientation": "horizontal",
            "style": "IPY_MODEL_874e2ad22e78457fa6f125bbe9216d7a",
            "value": 5069051
          }
        },
        "19daedb026b440e1bd4483b3b63dff16": {
          "model_module": "@jupyter-widgets/controls",
          "model_name": "HTMLModel",
          "model_module_version": "1.5.0",
          "state": {
            "_dom_classes": [],
            "_model_module": "@jupyter-widgets/controls",
            "_model_module_version": "1.5.0",
            "_model_name": "HTMLModel",
            "_view_count": null,
            "_view_module": "@jupyter-widgets/controls",
            "_view_module_version": "1.5.0",
            "_view_name": "HTMLView",
            "description": "",
            "description_tooltip": null,
            "layout": "IPY_MODEL_714a978766a4437986033c4a1dc94104",
            "placeholder": "​",
            "style": "IPY_MODEL_97a16540507641c8b15a9c3cbe64fbfd",
            "value": " 5.07M/5.07M [00:01&lt;00:00, 3.16MB/s]"
          }
        },
        "84c77cbdc0674551a56999b79bd5f16f": {
          "model_module": "@jupyter-widgets/base",
          "model_name": "LayoutModel",
          "model_module_version": "1.2.0",
          "state": {
            "_model_module": "@jupyter-widgets/base",
            "_model_module_version": "1.2.0",
            "_model_name": "LayoutModel",
            "_view_count": null,
            "_view_module": "@jupyter-widgets/base",
            "_view_module_version": "1.2.0",
            "_view_name": "LayoutView",
            "align_content": null,
            "align_items": null,
            "align_self": null,
            "border": null,
            "bottom": null,
            "display": null,
            "flex": null,
            "flex_flow": null,
            "grid_area": null,
            "grid_auto_columns": null,
            "grid_auto_flow": null,
            "grid_auto_rows": null,
            "grid_column": null,
            "grid_gap": null,
            "grid_row": null,
            "grid_template_areas": null,
            "grid_template_columns": null,
            "grid_template_rows": null,
            "height": null,
            "justify_content": null,
            "justify_items": null,
            "left": null,
            "margin": null,
            "max_height": null,
            "max_width": null,
            "min_height": null,
            "min_width": null,
            "object_fit": null,
            "object_position": null,
            "order": null,
            "overflow": null,
            "overflow_x": null,
            "overflow_y": null,
            "padding": null,
            "right": null,
            "top": null,
            "visibility": null,
            "width": null
          }
        },
        "8277081ae4174d1a97bb63a77f46b2ba": {
          "model_module": "@jupyter-widgets/base",
          "model_name": "LayoutModel",
          "model_module_version": "1.2.0",
          "state": {
            "_model_module": "@jupyter-widgets/base",
            "_model_module_version": "1.2.0",
            "_model_name": "LayoutModel",
            "_view_count": null,
            "_view_module": "@jupyter-widgets/base",
            "_view_module_version": "1.2.0",
            "_view_name": "LayoutView",
            "align_content": null,
            "align_items": null,
            "align_self": null,
            "border": null,
            "bottom": null,
            "display": null,
            "flex": null,
            "flex_flow": null,
            "grid_area": null,
            "grid_auto_columns": null,
            "grid_auto_flow": null,
            "grid_auto_rows": null,
            "grid_column": null,
            "grid_gap": null,
            "grid_row": null,
            "grid_template_areas": null,
            "grid_template_columns": null,
            "grid_template_rows": null,
            "height": null,
            "justify_content": null,
            "justify_items": null,
            "left": null,
            "margin": null,
            "max_height": null,
            "max_width": null,
            "min_height": null,
            "min_width": null,
            "object_fit": null,
            "object_position": null,
            "order": null,
            "overflow": null,
            "overflow_x": null,
            "overflow_y": null,
            "padding": null,
            "right": null,
            "top": null,
            "visibility": null,
            "width": null
          }
        },
        "614b71aabb1d4252a03e6e9640e4004b": {
          "model_module": "@jupyter-widgets/controls",
          "model_name": "DescriptionStyleModel",
          "model_module_version": "1.5.0",
          "state": {
            "_model_module": "@jupyter-widgets/controls",
            "_model_module_version": "1.5.0",
            "_model_name": "DescriptionStyleModel",
            "_view_count": null,
            "_view_module": "@jupyter-widgets/base",
            "_view_module_version": "1.2.0",
            "_view_name": "StyleView",
            "description_width": ""
          }
        },
        "23501ea66c9b4f6ab458a15b6fe2502a": {
          "model_module": "@jupyter-widgets/base",
          "model_name": "LayoutModel",
          "model_module_version": "1.2.0",
          "state": {
            "_model_module": "@jupyter-widgets/base",
            "_model_module_version": "1.2.0",
            "_model_name": "LayoutModel",
            "_view_count": null,
            "_view_module": "@jupyter-widgets/base",
            "_view_module_version": "1.2.0",
            "_view_name": "LayoutView",
            "align_content": null,
            "align_items": null,
            "align_self": null,
            "border": null,
            "bottom": null,
            "display": null,
            "flex": null,
            "flex_flow": null,
            "grid_area": null,
            "grid_auto_columns": null,
            "grid_auto_flow": null,
            "grid_auto_rows": null,
            "grid_column": null,
            "grid_gap": null,
            "grid_row": null,
            "grid_template_areas": null,
            "grid_template_columns": null,
            "grid_template_rows": null,
            "height": null,
            "justify_content": null,
            "justify_items": null,
            "left": null,
            "margin": null,
            "max_height": null,
            "max_width": null,
            "min_height": null,
            "min_width": null,
            "object_fit": null,
            "object_position": null,
            "order": null,
            "overflow": null,
            "overflow_x": null,
            "overflow_y": null,
            "padding": null,
            "right": null,
            "top": null,
            "visibility": null,
            "width": null
          }
        },
        "874e2ad22e78457fa6f125bbe9216d7a": {
          "model_module": "@jupyter-widgets/controls",
          "model_name": "ProgressStyleModel",
          "model_module_version": "1.5.0",
          "state": {
            "_model_module": "@jupyter-widgets/controls",
            "_model_module_version": "1.5.0",
            "_model_name": "ProgressStyleModel",
            "_view_count": null,
            "_view_module": "@jupyter-widgets/base",
            "_view_module_version": "1.2.0",
            "_view_name": "StyleView",
            "bar_color": null,
            "description_width": ""
          }
        },
        "714a978766a4437986033c4a1dc94104": {
          "model_module": "@jupyter-widgets/base",
          "model_name": "LayoutModel",
          "model_module_version": "1.2.0",
          "state": {
            "_model_module": "@jupyter-widgets/base",
            "_model_module_version": "1.2.0",
            "_model_name": "LayoutModel",
            "_view_count": null,
            "_view_module": "@jupyter-widgets/base",
            "_view_module_version": "1.2.0",
            "_view_name": "LayoutView",
            "align_content": null,
            "align_items": null,
            "align_self": null,
            "border": null,
            "bottom": null,
            "display": null,
            "flex": null,
            "flex_flow": null,
            "grid_area": null,
            "grid_auto_columns": null,
            "grid_auto_flow": null,
            "grid_auto_rows": null,
            "grid_column": null,
            "grid_gap": null,
            "grid_row": null,
            "grid_template_areas": null,
            "grid_template_columns": null,
            "grid_template_rows": null,
            "height": null,
            "justify_content": null,
            "justify_items": null,
            "left": null,
            "margin": null,
            "max_height": null,
            "max_width": null,
            "min_height": null,
            "min_width": null,
            "object_fit": null,
            "object_position": null,
            "order": null,
            "overflow": null,
            "overflow_x": null,
            "overflow_y": null,
            "padding": null,
            "right": null,
            "top": null,
            "visibility": null,
            "width": null
          }
        },
        "97a16540507641c8b15a9c3cbe64fbfd": {
          "model_module": "@jupyter-widgets/controls",
          "model_name": "DescriptionStyleModel",
          "model_module_version": "1.5.0",
          "state": {
            "_model_module": "@jupyter-widgets/controls",
            "_model_module_version": "1.5.0",
            "_model_name": "DescriptionStyleModel",
            "_view_count": null,
            "_view_module": "@jupyter-widgets/base",
            "_view_module_version": "1.2.0",
            "_view_name": "StyleView",
            "description_width": ""
          }
        },
        "376ddd3b1e1f44579c15dd3df7026d33": {
          "model_module": "@jupyter-widgets/controls",
          "model_name": "HBoxModel",
          "model_module_version": "1.5.0",
          "state": {
            "_dom_classes": [],
            "_model_module": "@jupyter-widgets/controls",
            "_model_module_version": "1.5.0",
            "_model_name": "HBoxModel",
            "_view_count": null,
            "_view_module": "@jupyter-widgets/controls",
            "_view_module_version": "1.5.0",
            "_view_name": "HBoxView",
            "box_style": "",
            "children": [
              "IPY_MODEL_ec6e433226fd4233a803eecfba162307",
              "IPY_MODEL_2b9e518e5a9748bc827e5cfec419ab30",
              "IPY_MODEL_89ce752c9ce6475e86a4c9405d6712ae"
            ],
            "layout": "IPY_MODEL_72401f50af4744fdb7fa9257211e26af"
          }
        },
        "ec6e433226fd4233a803eecfba162307": {
          "model_module": "@jupyter-widgets/controls",
          "model_name": "HTMLModel",
          "model_module_version": "1.5.0",
          "state": {
            "_dom_classes": [],
            "_model_module": "@jupyter-widgets/controls",
            "_model_module_version": "1.5.0",
            "_model_name": "HTMLModel",
            "_view_count": null,
            "_view_module": "@jupyter-widgets/controls",
            "_view_module_version": "1.5.0",
            "_view_name": "HTMLView",
            "description": "",
            "description_tooltip": null,
            "layout": "IPY_MODEL_864f5bf06eff4e6ab3d51fb27054e785",
            "placeholder": "​",
            "style": "IPY_MODEL_e161c986ce5e49649a16a1ab6509a76b",
            "value": "Downloading: 100%"
          }
        },
        "2b9e518e5a9748bc827e5cfec419ab30": {
          "model_module": "@jupyter-widgets/controls",
          "model_name": "FloatProgressModel",
          "model_module_version": "1.5.0",
          "state": {
            "_dom_classes": [],
            "_model_module": "@jupyter-widgets/controls",
            "_model_module_version": "1.5.0",
            "_model_name": "FloatProgressModel",
            "_view_count": null,
            "_view_module": "@jupyter-widgets/controls",
            "_view_module_version": "1.5.0",
            "_view_name": "ProgressView",
            "bar_style": "success",
            "description": "",
            "description_tooltip": null,
            "layout": "IPY_MODEL_438dba864fb04e6ba9173854c499922e",
            "max": 9096718,
            "min": 0,
            "orientation": "horizontal",
            "style": "IPY_MODEL_dafa092564144ec9af5e6ae2e7cbed05",
            "value": 9096718
          }
        },
        "89ce752c9ce6475e86a4c9405d6712ae": {
          "model_module": "@jupyter-widgets/controls",
          "model_name": "HTMLModel",
          "model_module_version": "1.5.0",
          "state": {
            "_dom_classes": [],
            "_model_module": "@jupyter-widgets/controls",
            "_model_module_version": "1.5.0",
            "_model_name": "HTMLModel",
            "_view_count": null,
            "_view_module": "@jupyter-widgets/controls",
            "_view_module_version": "1.5.0",
            "_view_name": "HTMLView",
            "description": "",
            "description_tooltip": null,
            "layout": "IPY_MODEL_8d342dfffaf14087bbb2a4a2ea465541",
            "placeholder": "​",
            "style": "IPY_MODEL_6885f2fb973541638d3933a4ec52e8a2",
            "value": " 9.10M/9.10M [00:02&lt;00:00, 6.36MB/s]"
          }
        },
        "72401f50af4744fdb7fa9257211e26af": {
          "model_module": "@jupyter-widgets/base",
          "model_name": "LayoutModel",
          "model_module_version": "1.2.0",
          "state": {
            "_model_module": "@jupyter-widgets/base",
            "_model_module_version": "1.2.0",
            "_model_name": "LayoutModel",
            "_view_count": null,
            "_view_module": "@jupyter-widgets/base",
            "_view_module_version": "1.2.0",
            "_view_name": "LayoutView",
            "align_content": null,
            "align_items": null,
            "align_self": null,
            "border": null,
            "bottom": null,
            "display": null,
            "flex": null,
            "flex_flow": null,
            "grid_area": null,
            "grid_auto_columns": null,
            "grid_auto_flow": null,
            "grid_auto_rows": null,
            "grid_column": null,
            "grid_gap": null,
            "grid_row": null,
            "grid_template_areas": null,
            "grid_template_columns": null,
            "grid_template_rows": null,
            "height": null,
            "justify_content": null,
            "justify_items": null,
            "left": null,
            "margin": null,
            "max_height": null,
            "max_width": null,
            "min_height": null,
            "min_width": null,
            "object_fit": null,
            "object_position": null,
            "order": null,
            "overflow": null,
            "overflow_x": null,
            "overflow_y": null,
            "padding": null,
            "right": null,
            "top": null,
            "visibility": null,
            "width": null
          }
        },
        "864f5bf06eff4e6ab3d51fb27054e785": {
          "model_module": "@jupyter-widgets/base",
          "model_name": "LayoutModel",
          "model_module_version": "1.2.0",
          "state": {
            "_model_module": "@jupyter-widgets/base",
            "_model_module_version": "1.2.0",
            "_model_name": "LayoutModel",
            "_view_count": null,
            "_view_module": "@jupyter-widgets/base",
            "_view_module_version": "1.2.0",
            "_view_name": "LayoutView",
            "align_content": null,
            "align_items": null,
            "align_self": null,
            "border": null,
            "bottom": null,
            "display": null,
            "flex": null,
            "flex_flow": null,
            "grid_area": null,
            "grid_auto_columns": null,
            "grid_auto_flow": null,
            "grid_auto_rows": null,
            "grid_column": null,
            "grid_gap": null,
            "grid_row": null,
            "grid_template_areas": null,
            "grid_template_columns": null,
            "grid_template_rows": null,
            "height": null,
            "justify_content": null,
            "justify_items": null,
            "left": null,
            "margin": null,
            "max_height": null,
            "max_width": null,
            "min_height": null,
            "min_width": null,
            "object_fit": null,
            "object_position": null,
            "order": null,
            "overflow": null,
            "overflow_x": null,
            "overflow_y": null,
            "padding": null,
            "right": null,
            "top": null,
            "visibility": null,
            "width": null
          }
        },
        "e161c986ce5e49649a16a1ab6509a76b": {
          "model_module": "@jupyter-widgets/controls",
          "model_name": "DescriptionStyleModel",
          "model_module_version": "1.5.0",
          "state": {
            "_model_module": "@jupyter-widgets/controls",
            "_model_module_version": "1.5.0",
            "_model_name": "DescriptionStyleModel",
            "_view_count": null,
            "_view_module": "@jupyter-widgets/base",
            "_view_module_version": "1.2.0",
            "_view_name": "StyleView",
            "description_width": ""
          }
        },
        "438dba864fb04e6ba9173854c499922e": {
          "model_module": "@jupyter-widgets/base",
          "model_name": "LayoutModel",
          "model_module_version": "1.2.0",
          "state": {
            "_model_module": "@jupyter-widgets/base",
            "_model_module_version": "1.2.0",
            "_model_name": "LayoutModel",
            "_view_count": null,
            "_view_module": "@jupyter-widgets/base",
            "_view_module_version": "1.2.0",
            "_view_name": "LayoutView",
            "align_content": null,
            "align_items": null,
            "align_self": null,
            "border": null,
            "bottom": null,
            "display": null,
            "flex": null,
            "flex_flow": null,
            "grid_area": null,
            "grid_auto_columns": null,
            "grid_auto_flow": null,
            "grid_auto_rows": null,
            "grid_column": null,
            "grid_gap": null,
            "grid_row": null,
            "grid_template_areas": null,
            "grid_template_columns": null,
            "grid_template_rows": null,
            "height": null,
            "justify_content": null,
            "justify_items": null,
            "left": null,
            "margin": null,
            "max_height": null,
            "max_width": null,
            "min_height": null,
            "min_width": null,
            "object_fit": null,
            "object_position": null,
            "order": null,
            "overflow": null,
            "overflow_x": null,
            "overflow_y": null,
            "padding": null,
            "right": null,
            "top": null,
            "visibility": null,
            "width": null
          }
        },
        "dafa092564144ec9af5e6ae2e7cbed05": {
          "model_module": "@jupyter-widgets/controls",
          "model_name": "ProgressStyleModel",
          "model_module_version": "1.5.0",
          "state": {
            "_model_module": "@jupyter-widgets/controls",
            "_model_module_version": "1.5.0",
            "_model_name": "ProgressStyleModel",
            "_view_count": null,
            "_view_module": "@jupyter-widgets/base",
            "_view_module_version": "1.2.0",
            "_view_name": "StyleView",
            "bar_color": null,
            "description_width": ""
          }
        },
        "8d342dfffaf14087bbb2a4a2ea465541": {
          "model_module": "@jupyter-widgets/base",
          "model_name": "LayoutModel",
          "model_module_version": "1.2.0",
          "state": {
            "_model_module": "@jupyter-widgets/base",
            "_model_module_version": "1.2.0",
            "_model_name": "LayoutModel",
            "_view_count": null,
            "_view_module": "@jupyter-widgets/base",
            "_view_module_version": "1.2.0",
            "_view_name": "LayoutView",
            "align_content": null,
            "align_items": null,
            "align_self": null,
            "border": null,
            "bottom": null,
            "display": null,
            "flex": null,
            "flex_flow": null,
            "grid_area": null,
            "grid_auto_columns": null,
            "grid_auto_flow": null,
            "grid_auto_rows": null,
            "grid_column": null,
            "grid_gap": null,
            "grid_row": null,
            "grid_template_areas": null,
            "grid_template_columns": null,
            "grid_template_rows": null,
            "height": null,
            "justify_content": null,
            "justify_items": null,
            "left": null,
            "margin": null,
            "max_height": null,
            "max_width": null,
            "min_height": null,
            "min_width": null,
            "object_fit": null,
            "object_position": null,
            "order": null,
            "overflow": null,
            "overflow_x": null,
            "overflow_y": null,
            "padding": null,
            "right": null,
            "top": null,
            "visibility": null,
            "width": null
          }
        },
        "6885f2fb973541638d3933a4ec52e8a2": {
          "model_module": "@jupyter-widgets/controls",
          "model_name": "DescriptionStyleModel",
          "model_module_version": "1.5.0",
          "state": {
            "_model_module": "@jupyter-widgets/controls",
            "_model_module_version": "1.5.0",
            "_model_name": "DescriptionStyleModel",
            "_view_count": null,
            "_view_module": "@jupyter-widgets/base",
            "_view_module_version": "1.2.0",
            "_view_name": "StyleView",
            "description_width": ""
          }
        }
      }
    }
  },
  "cells": [
    {
      "cell_type": "code",
      "execution_count": null,
      "metadata": {
        "colab": {
          "base_uri": "https://localhost:8080/"
        },
        "id": "2DlZqpTdcQlj",
        "outputId": "4a445f2b-aab4-4b89-a26d-f03df7c813d0"
      },
      "outputs": [
        {
          "output_type": "stream",
          "name": "stdout",
          "text": [
            "Mounted at /content/gdrive\n"
          ]
        }
      ],
      "source": [
        "from google.colab import drive\n",
        "\n",
        "drive.mount('/content/gdrive')"
      ]
    },
    {
      "cell_type": "code",
      "source": [
        "# Install hugging face transformers api\n",
        "!pip install transformers"
      ],
      "metadata": {
        "id": "Zq8pEibYiwyH",
        "colab": {
          "base_uri": "https://localhost:8080/"
        },
        "outputId": "791858c2-1a36-4f32-d078-29e2e43b887e"
      },
      "execution_count": null,
      "outputs": [
        {
          "output_type": "stream",
          "name": "stdout",
          "text": [
            "Looking in indexes: https://pypi.org/simple, https://us-python.pkg.dev/colab-wheels/public/simple/\n",
            "Collecting transformers\n",
            "  Downloading transformers-4.22.1-py3-none-any.whl (4.9 MB)\n",
            "\u001b[K     |████████████████████████████████| 4.9 MB 35.8 MB/s \n",
            "\u001b[?25hRequirement already satisfied: pyyaml>=5.1 in /usr/local/lib/python3.7/dist-packages (from transformers) (6.0)\n",
            "Requirement already satisfied: regex!=2019.12.17 in /usr/local/lib/python3.7/dist-packages (from transformers) (2022.6.2)\n",
            "Collecting huggingface-hub<1.0,>=0.9.0\n",
            "  Downloading huggingface_hub-0.9.1-py3-none-any.whl (120 kB)\n",
            "\u001b[K     |████████████████████████████████| 120 kB 71.3 MB/s \n",
            "\u001b[?25hRequirement already satisfied: packaging>=20.0 in /usr/local/lib/python3.7/dist-packages (from transformers) (21.3)\n",
            "Requirement already satisfied: requests in /usr/local/lib/python3.7/dist-packages (from transformers) (2.23.0)\n",
            "Requirement already satisfied: importlib-metadata in /usr/local/lib/python3.7/dist-packages (from transformers) (4.12.0)\n",
            "Requirement already satisfied: tqdm>=4.27 in /usr/local/lib/python3.7/dist-packages (from transformers) (4.64.1)\n",
            "Requirement already satisfied: numpy>=1.17 in /usr/local/lib/python3.7/dist-packages (from transformers) (1.21.6)\n",
            "Collecting tokenizers!=0.11.3,<0.13,>=0.11.1\n",
            "  Downloading tokenizers-0.12.1-cp37-cp37m-manylinux_2_12_x86_64.manylinux2010_x86_64.whl (6.6 MB)\n",
            "\u001b[K     |████████████████████████████████| 6.6 MB 58.1 MB/s \n",
            "\u001b[?25hRequirement already satisfied: filelock in /usr/local/lib/python3.7/dist-packages (from transformers) (3.8.0)\n",
            "Requirement already satisfied: typing-extensions>=3.7.4.3 in /usr/local/lib/python3.7/dist-packages (from huggingface-hub<1.0,>=0.9.0->transformers) (4.1.1)\n",
            "Requirement already satisfied: pyparsing!=3.0.5,>=2.0.2 in /usr/local/lib/python3.7/dist-packages (from packaging>=20.0->transformers) (3.0.9)\n",
            "Requirement already satisfied: zipp>=0.5 in /usr/local/lib/python3.7/dist-packages (from importlib-metadata->transformers) (3.8.1)\n",
            "Requirement already satisfied: idna<3,>=2.5 in /usr/local/lib/python3.7/dist-packages (from requests->transformers) (2.10)\n",
            "Requirement already satisfied: chardet<4,>=3.0.2 in /usr/local/lib/python3.7/dist-packages (from requests->transformers) (3.0.4)\n",
            "Requirement already satisfied: urllib3!=1.25.0,!=1.25.1,<1.26,>=1.21.1 in /usr/local/lib/python3.7/dist-packages (from requests->transformers) (1.24.3)\n",
            "Requirement already satisfied: certifi>=2017.4.17 in /usr/local/lib/python3.7/dist-packages (from requests->transformers) (2022.6.15)\n",
            "Installing collected packages: tokenizers, huggingface-hub, transformers\n",
            "Successfully installed huggingface-hub-0.9.1 tokenizers-0.12.1 transformers-4.22.1\n"
          ]
        }
      ]
    },
    {
      "cell_type": "markdown",
      "source": [
        "# Import all necessary libraries"
      ],
      "metadata": {
        "id": "XIKUW28cuYRj"
      }
    },
    {
      "cell_type": "code",
      "source": [
        "import numpy as np\n",
        "import pandas as pd\n",
        "import torch\n",
        "from torch.utils.data import TensorDataset, DataLoader, RandomSampler, random_split\n",
        "from torch.optim import AdamW, RAdam\n",
        "from sklearn.model_selection import train_test_split, GridSearchCV, cross_val_score\n",
        "from sklearn.preprocessing import LabelEncoder\n",
        "from sklearn.linear_model import LogisticRegression\n",
        "from transformers import XLMRobertaModel, XLMRobertaTokenizer, AutoTokenizer, XLMRobertaForSequenceClassification, get_linear_schedule_with_warmup\n",
        "from tensorflow import keras\n",
        "import tensorflow as tf\n",
        "from gensim.parsing.preprocessing import remove_stopwords\n",
        "import warnings\n",
        "\n",
        "df = pd.read_csv('gdrive/My Drive/Data/IMDB-dataset/IMDB Dataset.csv')"
      ],
      "metadata": {
        "id": "tHyfqQ6Vd2A-"
      },
      "execution_count": null,
      "outputs": []
    },
    {
      "cell_type": "markdown",
      "source": [
        "# Shrink the data size due to memory issues"
      ],
      "metadata": {
        "id": "OQ8Bdd8OjvoG"
      }
    },
    {
      "cell_type": "code",
      "source": [
        "df = df[:15000]"
      ],
      "metadata": {
        "id": "_nUPuRr3jp3J"
      },
      "execution_count": null,
      "outputs": []
    },
    {
      "cell_type": "markdown",
      "source": [
        "# We encode the labels to 0s and 1s"
      ],
      "metadata": {
        "id": "nASUHu1ZkKhm"
      }
    },
    {
      "cell_type": "code",
      "source": [
        "lab_encoder = LabelEncoder()\n",
        "df['sentiment'] = lab_encoder.fit_transform(df['sentiment'])\n",
        "\n",
        "reviews = df['review'].values\n",
        "labels = df['sentiment'].values"
      ],
      "metadata": {
        "id": "wkaN8ERcjJwD"
      },
      "execution_count": null,
      "outputs": []
    },
    {
      "cell_type": "markdown",
      "source": [
        "### Next, we need to tokenize each review using XLM-RoBERTa's tokenizer, as we're using XLM-RoBERTa for our zero-shot cross-lingual sentiment classification.\n",
        "### This tokenizer's encoding includes the following steps:\n",
        "  #### 1. Tokenize the whole sentence\n",
        "  #### 2. Add special tokens [CLS] and [SEP]\n",
        "  #### 3. Create a mapping between each token and its ID (accessible from the dictionary by the 'input_ids' key)\n",
        "  #### 4. Pad each sentence to the max length of sentences\n",
        "  #### 5. Create an attention mask for each [PAD] token, as they should be ignored during the attention process"
      ],
      "metadata": {
        "id": "H-DD7c83zdIz"
      }
    },
    {
      "cell_type": "code",
      "source": [
        "# weird error caused when using XLMRobertaTokenizer, so I used AutoTokenizer\n",
        "model_class, tokenizer_class, weights = (XLMRobertaModel, AutoTokenizer, 'xlm-roberta-base')\n",
        "\n",
        "# load the pretrained weights onto the model and tokenizer\n",
        "model = model_class.from_pretrained(weights)\n",
        "tokenizer = tokenizer_class.from_pretrained(weights, do_lower_case=True)"
      ],
      "metadata": {
        "id": "lt5sY9Vn3653",
        "colab": {
          "base_uri": "https://localhost:8080/",
          "height": 217,
          "referenced_widgets": [
            "6052de46d74a4be4b64b8e92be630523",
            "68b69ce1b4524c33aecc7e6ae76a4187",
            "8d09af5b74cf4f8f8ebd49acb501cc4c",
            "e1cca1f013734323a0b485a1c087ef4f",
            "5c3e215a6e214c679e7970724adb72da",
            "735ddad6819b4825950f46d964eef80f",
            "5976e2c7d353471aac09f3ad5b37a17e",
            "f040ccb1d3aa4f9f9278aa6495e35aaf",
            "0268d8b2cea64656bab2196a29f8919d",
            "f7fbcd754b77471d9ce17a4b01f8103d",
            "5dc24840192b4a258a91cc5a6149fe5b",
            "d3a3fa54e2f5436e8756a56dc9e43ebb",
            "e85853589e1b43aca6abffa55e169c83",
            "e940d970dba442acab9918dd547a13fd",
            "f79e14e5f9fe42c58144dabb2ea6b3bb",
            "5814fe61bc5f41718050c3932ee578f8",
            "f8f823a63c834f639d35bef339c3e0fb",
            "628f0b6b15ff4cf7ab59b2adf95188a0",
            "9b048e46f3e948979b65183f29fd28e7",
            "4fa696496bc3461e9ea28b0b1d8918ff",
            "c394f739a79642a5a669dc5fb94be7e1",
            "af49310948c64f8aa6e337d48ca7742e",
            "5bd6b4df39e84ad8974d130e33c27f85",
            "2e3d512dca56446cae65fa30a7288c08",
            "a2fe147f194642fe8a33aab829488504",
            "19daedb026b440e1bd4483b3b63dff16",
            "84c77cbdc0674551a56999b79bd5f16f",
            "8277081ae4174d1a97bb63a77f46b2ba",
            "614b71aabb1d4252a03e6e9640e4004b",
            "23501ea66c9b4f6ab458a15b6fe2502a",
            "874e2ad22e78457fa6f125bbe9216d7a",
            "714a978766a4437986033c4a1dc94104",
            "97a16540507641c8b15a9c3cbe64fbfd",
            "376ddd3b1e1f44579c15dd3df7026d33",
            "ec6e433226fd4233a803eecfba162307",
            "2b9e518e5a9748bc827e5cfec419ab30",
            "89ce752c9ce6475e86a4c9405d6712ae",
            "72401f50af4744fdb7fa9257211e26af",
            "864f5bf06eff4e6ab3d51fb27054e785",
            "e161c986ce5e49649a16a1ab6509a76b",
            "438dba864fb04e6ba9173854c499922e",
            "dafa092564144ec9af5e6ae2e7cbed05",
            "8d342dfffaf14087bbb2a4a2ea465541",
            "6885f2fb973541638d3933a4ec52e8a2"
          ]
        },
        "outputId": "519538e5-d345-48c8-b417-c35807300ec6"
      },
      "execution_count": null,
      "outputs": [
        {
          "output_type": "display_data",
          "data": {
            "text/plain": [
              "Downloading:   0%|          | 0.00/615 [00:00<?, ?B/s]"
            ],
            "application/vnd.jupyter.widget-view+json": {
              "version_major": 2,
              "version_minor": 0,
              "model_id": "6052de46d74a4be4b64b8e92be630523"
            }
          },
          "metadata": {}
        },
        {
          "output_type": "display_data",
          "data": {
            "text/plain": [
              "Downloading:   0%|          | 0.00/1.12G [00:00<?, ?B/s]"
            ],
            "application/vnd.jupyter.widget-view+json": {
              "version_major": 2,
              "version_minor": 0,
              "model_id": "d3a3fa54e2f5436e8756a56dc9e43ebb"
            }
          },
          "metadata": {}
        },
        {
          "output_type": "stream",
          "name": "stderr",
          "text": [
            "Some weights of the model checkpoint at xlm-roberta-base were not used when initializing XLMRobertaModel: ['lm_head.layer_norm.weight', 'lm_head.bias', 'lm_head.decoder.weight', 'lm_head.dense.weight', 'lm_head.layer_norm.bias', 'lm_head.dense.bias']\n",
            "- This IS expected if you are initializing XLMRobertaModel from the checkpoint of a model trained on another task or with another architecture (e.g. initializing a BertForSequenceClassification model from a BertForPreTraining model).\n",
            "- This IS NOT expected if you are initializing XLMRobertaModel from the checkpoint of a model that you expect to be exactly identical (initializing a BertForSequenceClassification model from a BertForSequenceClassification model).\n"
          ]
        },
        {
          "output_type": "display_data",
          "data": {
            "text/plain": [
              "Downloading:   0%|          | 0.00/5.07M [00:00<?, ?B/s]"
            ],
            "application/vnd.jupyter.widget-view+json": {
              "version_major": 2,
              "version_minor": 0,
              "model_id": "5bd6b4df39e84ad8974d130e33c27f85"
            }
          },
          "metadata": {}
        },
        {
          "output_type": "display_data",
          "data": {
            "text/plain": [
              "Downloading:   0%|          | 0.00/9.10M [00:00<?, ?B/s]"
            ],
            "application/vnd.jupyter.widget-view+json": {
              "version_major": 2,
              "version_minor": 0,
              "model_id": "376ddd3b1e1f44579c15dd3df7026d33"
            }
          },
          "metadata": {}
        }
      ]
    },
    {
      "cell_type": "markdown",
      "source": [
        "# We do a little preprocessing\n",
        "### Other preprocessing attempts such as lemmatizing and removing stop words caused in poorer performance of all models, so I only removed html tags and special characters and digits"
      ],
      "metadata": {
        "id": "b7vegyuxxjdN"
      }
    },
    {
      "cell_type": "code",
      "source": [
        "import nltk\n",
        "nltk.download('wordnet')\n",
        "nltk.download('omw-1.4')\n",
        "import re\n",
        "from bs4 import BeautifulSoup\n",
        "\n",
        "# removing the html strips\n",
        "def strip_html(text):\n",
        "    soup = BeautifulSoup(text, \"html.parser\")\n",
        "    return soup.get_text()\n",
        "\n",
        "# define a function to strip html tags and remove every character except alphabeticals\n",
        "def process_text(text):\n",
        "    text = strip_html(text)\n",
        "    text = re.sub(r'[^A-Za-z]+',' ',text)\n",
        "    return text\n",
        "\n",
        "# apply preprocessing to all reviews\n",
        "reviews = np.array(list(map(process_text, reviews)))"
      ],
      "metadata": {
        "colab": {
          "base_uri": "https://localhost:8080/"
        },
        "id": "VxMHnE8jkJ_l",
        "outputId": "0a5b2a9c-26f8-4ebb-e8dc-76b1b8dc25ee"
      },
      "execution_count": null,
      "outputs": [
        {
          "output_type": "stream",
          "name": "stderr",
          "text": [
            "[nltk_data] Downloading package wordnet to /root/nltk_data...\n",
            "[nltk_data] Downloading package omw-1.4 to /root/nltk_data...\n"
          ]
        }
      ]
    },
    {
      "cell_type": "code",
      "source": [
        "# define a function to tokenize a piece of text\n",
        "def get_ids_and_masks(text, tokenizer):\n",
        "\n",
        "  # we tokenize texts using encode_plus\n",
        "  tokenized_text = tokenizer.encode_plus(text, add_special_tokens=True, \n",
        "                                            padding='max_length',\n",
        "                                            max_length=256,\n",
        "                                            truncation=True,\n",
        "                                            return_tensors='pt',\n",
        "                                            return_attention_mask=True)\n",
        "  \n",
        "  # return input ids and attention masks for a piece of text\n",
        "  return (tokenized_text['input_ids'], tokenized_text['attention_mask'])"
      ],
      "metadata": {
        "id": "YZg1EtGtkzzu"
      },
      "execution_count": null,
      "outputs": []
    },
    {
      "cell_type": "code",
      "source": [
        "# list of ids and masks, for our whole dataset\n",
        "input_ids, attention_mask = list(), list()\n",
        "\n",
        "# tokenize each review using our function\n",
        "for review in reviews:\n",
        "  ids, masks = get_ids_and_masks(review, tokenizer)\n",
        "\n",
        "  # append to our list of ids and masks\n",
        "  input_ids.append(ids)\n",
        "  attention_mask.append(masks)"
      ],
      "metadata": {
        "id": "PyY90wrvmSSa"
      },
      "execution_count": null,
      "outputs": []
    },
    {
      "cell_type": "markdown",
      "source": [
        "# Create tensors for input_ids, attention_masks and labels for the whole dataset"
      ],
      "metadata": {
        "id": "p5JCxwGkArYT"
      }
    },
    {
      "cell_type": "code",
      "source": [
        "input_ids = torch.cat(input_ids, dim=0)\n",
        "attention_masks = torch.cat(attention_mask, dim=0)\n",
        "labels = torch.tensor(labels)"
      ],
      "metadata": {
        "id": "EtB19BVa-rYR"
      },
      "execution_count": null,
      "outputs": []
    },
    {
      "cell_type": "markdown",
      "source": [
        "## Use DataLoader to load data and iterate through it "
      ],
      "metadata": {
        "id": "QQAWzLdCswFh"
      }
    },
    {
      "cell_type": "code",
      "source": [
        "# specify a batch size\n",
        "batch_size=16\n",
        "\n",
        "# first, create a dataset from our tensors\n",
        "all_data = TensorDataset(input_ids, attention_masks, labels)\n",
        "\n",
        "# create a dataloader with a random sampler to choose batches randomly\n",
        "dataloader = DataLoader(all_data, sampler=RandomSampler(all_data), batch_size=batch_size)"
      ],
      "metadata": {
        "id": "k6v9gP0mO_Jt"
      },
      "execution_count": null,
      "outputs": []
    },
    {
      "cell_type": "markdown",
      "source": [
        "# Check for GPU"
      ],
      "metadata": {
        "id": "ZFNVoL3dujQE"
      }
    },
    {
      "cell_type": "code",
      "source": [
        "device = 'cuda' if torch.cuda.is_available() else 'cpu'\n",
        "\n",
        "# run the model on GPU\n",
        "model.cuda()"
      ],
      "metadata": {
        "id": "NDEpESZgWUfY"
      },
      "execution_count": null,
      "outputs": []
    },
    {
      "cell_type": "markdown",
      "source": [
        "## Iterate through our data and extract features for our samples"
      ],
      "metadata": {
        "id": "0aasJyOmuo0W"
      }
    },
    {
      "cell_type": "code",
      "source": [
        "# a function to extract features of samples in a given dataloader\n",
        "def extract_features(dataloader, model):  \n",
        "  \n",
        "  features, labels = list(), list()\n",
        "\n",
        "  # iterate through data\n",
        "  for _, batch in enumerate(dataloader):\n",
        "\n",
        "    # copy our tensors to GPU, because our model is run on GPU\n",
        "    b_input_ids = batch[0].to(device)\n",
        "    b_input_mask = batch[1].to(device)\n",
        "    b_labels = batch[2].to(device)\n",
        "\n",
        "    # disable gradient calculation\n",
        "    with torch.no_grad():\n",
        "\n",
        "      # save last hidden state of BERT for each input\n",
        "      batch_last_hidden_state = model(b_input_ids, \n",
        "                                      token_type_ids=None, \n",
        "                                      attention_mask=b_input_mask)\n",
        "      \n",
        "      # we only need the sentence embeddings ([CLS] tokens) of our inputs, so we slice our tensors and update the features list\n",
        "      features += list(batch_last_hidden_state[0][:, 0, :].cpu().numpy())\n",
        "      # update the labels list\n",
        "      labels += list(b_labels.cpu().numpy())\n",
        "  \n",
        "  return (features, labels) "
      ],
      "metadata": {
        "id": "JXk0-zLGX-tL"
      },
      "execution_count": null,
      "outputs": []
    },
    {
      "cell_type": "code",
      "source": [
        "# get features and labels \n",
        "features, labels = extract_features(dataloader, model)\n",
        "\n",
        "# split our data into train and test sets\n",
        "train_features, test_features, train_labels, test_labels = train_test_split(features, labels, random_state=42, test_size=0.2)"
      ],
      "metadata": {
        "id": "_-wJEUF2T0ir"
      },
      "execution_count": null,
      "outputs": []
    },
    {
      "cell_type": "code",
      "source": [
        "# convert train and test sets from list to numpy array\n",
        "train_X = np.array(train_features)\n",
        "train_y = np.array(train_labels)\n",
        "\n",
        "test_X = np.array(test_features)\n",
        "test_y = np.array(test_labels)"
      ],
      "metadata": {
        "id": "dcaGnvJXnXA5"
      },
      "execution_count": null,
      "outputs": []
    },
    {
      "cell_type": "markdown",
      "source": [
        "# We will use different approaches for our classification purpose:\n",
        "  ### 1. a deep keras model\n",
        "  ### 2. logistic regression using sklearn\n",
        "  ### 3. using XLMRobertaForSequenceClassification directly"
      ],
      "metadata": {
        "id": "FULME9tJif3s"
      }
    },
    {
      "cell_type": "markdown",
      "source": [
        "# First approach, using a deep keras model\n",
        "\n",
        "### It was really difficult to find appropriate hyperparameters for this deep model"
      ],
      "metadata": {
        "id": "V65Ud0Tp0uQJ"
      }
    },
    {
      "cell_type": "code",
      "source": [
        "# a very deep model. I really tried to encourage the model to overfit a little and tried many many different hyperparameters and different number of layers.\n",
        "# at the end, this model scored best on the training set, but the scores on test and val sets still weren't so different\n",
        "deep_model = keras.Sequential([\n",
        "    keras.layers.Dense(1024, input_shape=(768,)),\n",
        "    keras.layers.BatchNormalization(),\n",
        "    keras.layers.Activation('tanh'),\n",
        "    keras.layers.Dropout(0.2),\n",
        "    keras.layers.Dense(512),\n",
        "    keras.layers.BatchNormalization(),\n",
        "    keras.layers.Activation('tanh'),\n",
        "    keras.layers.Dropout(0.2),\n",
        "    keras.layers.Dense(256),\n",
        "    keras.layers.BatchNormalization(),\n",
        "    keras.layers.Activation('tanh'),\n",
        "    keras.layers.Dropout(0.2),\n",
        "    keras.layers.Dense(128),\n",
        "    keras.layers.BatchNormalization(),\n",
        "    keras.layers.Activation('tanh'),\n",
        "    keras.layers.Dropout(0.2),\n",
        "    keras.layers.Dense(64),\n",
        "    keras.layers.BatchNormalization(),\n",
        "    keras.layers.Activation('tanh'),\n",
        "    keras.layers.Dropout(0.2),\n",
        "    keras.layers.Dense(1, activation=tf.nn.sigmoid),\n",
        "])\n",
        "\n",
        "# reduce learning rate gradually\n",
        "reduce_lr = tf.keras.callbacks.ReduceLROnPlateau(monitor='val_loss',\n",
        "                                  factor=0.2,\n",
        "                                  patience=5,\n",
        "                                  verbose=1,\n",
        "                                  min_delta=0.0001)\n",
        "# define early stopping\n",
        "earlystop = tf.keras.callbacks.EarlyStopping(monitor='val_loss',\n",
        "                          min_delta=0,\n",
        "                          patience=15,\n",
        "                          verbose=1,\n",
        "                          restore_best_weights=True)\n",
        "\n",
        "# define callbacks\n",
        "callbacks = [earlystop, reduce_lr]\n",
        "\n",
        "# set optimizer, loss and metric for our model\n",
        "deep_model.compile(optimizer=keras.optimizers.Adam(learning_rate=0.00002),\n",
        "              loss='binary_crossentropy',\n",
        "              metrics=['accuracy'])\n",
        "\n",
        "# train our model\n",
        "deep_model.fit(train_X, train_y, epochs=100, batch_size=16, callbacks=callbacks, validation_split=0.1)\n",
        "# evaluate model's performence on test set\n",
        "test_loss, test_acc = deep_model.evaluate(test_X, test_y)\n",
        "print('Test accuracy:', test_acc)\n",
        "print('Test loss:', test_loss)"
      ],
      "metadata": {
        "colab": {
          "base_uri": "https://localhost:8080/"
        },
        "id": "_xOzGsXTk8uO",
        "outputId": "ea365eac-3f96-4915-82b4-e74d9323bf2b"
      },
      "execution_count": null,
      "outputs": [
        {
          "output_type": "stream",
          "name": "stdout",
          "text": [
            "Epoch 1/100\n",
            "675/675 [==============================] - 6s 5ms/step - loss: 0.5278 - accuracy: 0.7317 - val_loss: 0.4211 - val_accuracy: 0.8042 - lr: 2.0000e-05\n",
            "Epoch 2/100\n",
            "675/675 [==============================] - 3s 5ms/step - loss: 0.4318 - accuracy: 0.8046 - val_loss: 0.3853 - val_accuracy: 0.8325 - lr: 2.0000e-05\n",
            "Epoch 3/100\n",
            "675/675 [==============================] - 3s 5ms/step - loss: 0.4098 - accuracy: 0.8139 - val_loss: 0.3728 - val_accuracy: 0.8392 - lr: 2.0000e-05\n",
            "Epoch 4/100\n",
            "675/675 [==============================] - 3s 5ms/step - loss: 0.3959 - accuracy: 0.8230 - val_loss: 0.3653 - val_accuracy: 0.8442 - lr: 2.0000e-05\n",
            "Epoch 5/100\n",
            "675/675 [==============================] - 3s 5ms/step - loss: 0.3871 - accuracy: 0.8291 - val_loss: 0.4203 - val_accuracy: 0.8217 - lr: 2.0000e-05\n",
            "Epoch 6/100\n",
            "675/675 [==============================] - 3s 5ms/step - loss: 0.3861 - accuracy: 0.8298 - val_loss: 0.3615 - val_accuracy: 0.8517 - lr: 2.0000e-05\n",
            "Epoch 7/100\n",
            "675/675 [==============================] - 3s 4ms/step - loss: 0.3765 - accuracy: 0.8342 - val_loss: 0.3679 - val_accuracy: 0.8467 - lr: 2.0000e-05\n",
            "Epoch 8/100\n",
            "675/675 [==============================] - 3s 5ms/step - loss: 0.3715 - accuracy: 0.8371 - val_loss: 0.3698 - val_accuracy: 0.8442 - lr: 2.0000e-05\n",
            "Epoch 9/100\n",
            "675/675 [==============================] - 3s 5ms/step - loss: 0.3636 - accuracy: 0.8390 - val_loss: 0.4876 - val_accuracy: 0.8000 - lr: 2.0000e-05\n",
            "Epoch 10/100\n",
            "675/675 [==============================] - 3s 5ms/step - loss: 0.3637 - accuracy: 0.8428 - val_loss: 0.3460 - val_accuracy: 0.8583 - lr: 2.0000e-05\n",
            "Epoch 11/100\n",
            "675/675 [==============================] - 3s 5ms/step - loss: 0.3582 - accuracy: 0.8421 - val_loss: 0.3578 - val_accuracy: 0.8525 - lr: 2.0000e-05\n",
            "Epoch 12/100\n",
            "675/675 [==============================] - 3s 5ms/step - loss: 0.3571 - accuracy: 0.8458 - val_loss: 0.3463 - val_accuracy: 0.8608 - lr: 2.0000e-05\n",
            "Epoch 13/100\n",
            "675/675 [==============================] - 3s 5ms/step - loss: 0.3615 - accuracy: 0.8416 - val_loss: 0.4268 - val_accuracy: 0.8225 - lr: 2.0000e-05\n",
            "Epoch 14/100\n",
            "675/675 [==============================] - 3s 5ms/step - loss: 0.3469 - accuracy: 0.8471 - val_loss: 0.3376 - val_accuracy: 0.8708 - lr: 2.0000e-05\n",
            "Epoch 15/100\n",
            "675/675 [==============================] - 3s 5ms/step - loss: 0.3516 - accuracy: 0.8478 - val_loss: 0.3357 - val_accuracy: 0.8675 - lr: 2.0000e-05\n",
            "Epoch 16/100\n",
            "675/675 [==============================] - 3s 5ms/step - loss: 0.3440 - accuracy: 0.8521 - val_loss: 0.3443 - val_accuracy: 0.8633 - lr: 2.0000e-05\n",
            "Epoch 17/100\n",
            "675/675 [==============================] - 3s 5ms/step - loss: 0.3437 - accuracy: 0.8494 - val_loss: 0.3436 - val_accuracy: 0.8592 - lr: 2.0000e-05\n",
            "Epoch 18/100\n",
            "675/675 [==============================] - 3s 5ms/step - loss: 0.3376 - accuracy: 0.8534 - val_loss: 0.3359 - val_accuracy: 0.8633 - lr: 2.0000e-05\n",
            "Epoch 19/100\n",
            "675/675 [==============================] - 3s 5ms/step - loss: 0.3377 - accuracy: 0.8536 - val_loss: 0.3803 - val_accuracy: 0.8442 - lr: 2.0000e-05\n",
            "Epoch 20/100\n",
            "666/675 [============================>.] - ETA: 0s - loss: 0.3337 - accuracy: 0.8506\n",
            "Epoch 20: ReduceLROnPlateau reducing learning rate to 3.999999898951501e-06.\n",
            "675/675 [==============================] - 3s 5ms/step - loss: 0.3344 - accuracy: 0.8503 - val_loss: 0.3774 - val_accuracy: 0.8433 - lr: 2.0000e-05\n",
            "Epoch 21/100\n",
            "675/675 [==============================] - 3s 5ms/step - loss: 0.3255 - accuracy: 0.8576 - val_loss: 0.3304 - val_accuracy: 0.8625 - lr: 4.0000e-06\n",
            "Epoch 22/100\n",
            "675/675 [==============================] - 3s 5ms/step - loss: 0.3272 - accuracy: 0.8595 - val_loss: 0.3325 - val_accuracy: 0.8675 - lr: 4.0000e-06\n",
            "Epoch 23/100\n",
            "675/675 [==============================] - 3s 5ms/step - loss: 0.3303 - accuracy: 0.8550 - val_loss: 0.3306 - val_accuracy: 0.8658 - lr: 4.0000e-06\n",
            "Epoch 24/100\n",
            "675/675 [==============================] - 3s 5ms/step - loss: 0.3196 - accuracy: 0.8621 - val_loss: 0.3327 - val_accuracy: 0.8667 - lr: 4.0000e-06\n",
            "Epoch 25/100\n",
            "675/675 [==============================] - 3s 5ms/step - loss: 0.3203 - accuracy: 0.8601 - val_loss: 0.3332 - val_accuracy: 0.8683 - lr: 4.0000e-06\n",
            "Epoch 26/100\n",
            "674/675 [============================>.] - ETA: 0s - loss: 0.3212 - accuracy: 0.8610\n",
            "Epoch 26: ReduceLROnPlateau reducing learning rate to 7.999999979801942e-07.\n",
            "675/675 [==============================] - 3s 5ms/step - loss: 0.3213 - accuracy: 0.8608 - val_loss: 0.3325 - val_accuracy: 0.8617 - lr: 4.0000e-06\n",
            "Epoch 27/100\n",
            "675/675 [==============================] - 3s 5ms/step - loss: 0.3249 - accuracy: 0.8582 - val_loss: 0.3320 - val_accuracy: 0.8708 - lr: 8.0000e-07\n",
            "Epoch 28/100\n",
            "675/675 [==============================] - 3s 5ms/step - loss: 0.3193 - accuracy: 0.8591 - val_loss: 0.3337 - val_accuracy: 0.8692 - lr: 8.0000e-07\n",
            "Epoch 29/100\n",
            "675/675 [==============================] - 3s 5ms/step - loss: 0.3229 - accuracy: 0.8625 - val_loss: 0.3334 - val_accuracy: 0.8675 - lr: 8.0000e-07\n",
            "Epoch 30/100\n",
            "675/675 [==============================] - 3s 5ms/step - loss: 0.3247 - accuracy: 0.8568 - val_loss: 0.3317 - val_accuracy: 0.8667 - lr: 8.0000e-07\n",
            "Epoch 31/100\n",
            "666/675 [============================>.] - ETA: 0s - loss: 0.3177 - accuracy: 0.8636\n",
            "Epoch 31: ReduceLROnPlateau reducing learning rate to 1.600000018697756e-07.\n",
            "675/675 [==============================] - 3s 5ms/step - loss: 0.3179 - accuracy: 0.8634 - val_loss: 0.3340 - val_accuracy: 0.8717 - lr: 8.0000e-07\n",
            "Epoch 32/100\n",
            "675/675 [==============================] - 3s 5ms/step - loss: 0.3245 - accuracy: 0.8578 - val_loss: 0.3329 - val_accuracy: 0.8692 - lr: 1.6000e-07\n",
            "Epoch 33/100\n",
            "675/675 [==============================] - 3s 5ms/step - loss: 0.3230 - accuracy: 0.8600 - val_loss: 0.3325 - val_accuracy: 0.8692 - lr: 1.6000e-07\n",
            "Epoch 34/100\n",
            "675/675 [==============================] - 3s 4ms/step - loss: 0.3202 - accuracy: 0.8620 - val_loss: 0.3319 - val_accuracy: 0.8667 - lr: 1.6000e-07\n",
            "Epoch 35/100\n",
            "675/675 [==============================] - 3s 5ms/step - loss: 0.3249 - accuracy: 0.8618 - val_loss: 0.3323 - val_accuracy: 0.8683 - lr: 1.6000e-07\n",
            "Epoch 36/100\n",
            "669/675 [============================>.] - ETA: 0s - loss: 0.3200 - accuracy: 0.8597Restoring model weights from the end of the best epoch: 21.\n",
            "\n",
            "Epoch 36: ReduceLROnPlateau reducing learning rate to 3.199999980552093e-08.\n",
            "675/675 [==============================] - 3s 5ms/step - loss: 0.3202 - accuracy: 0.8594 - val_loss: 0.3319 - val_accuracy: 0.8683 - lr: 1.6000e-07\n",
            "Epoch 36: early stopping\n",
            "94/94 [==============================] - 1s 3ms/step - loss: 0.3291 - accuracy: 0.8670\n",
            "Test accuracy: 0.8669999837875366\n",
            "Test loss: 0.3291410803794861\n"
          ]
        }
      ]
    },
    {
      "cell_type": "markdown",
      "source": [
        "### We reached the accuracy of **0.866** on the test set\n",
        "\n",
        "---\n",
        "\n",
        "\n",
        "# In the second approach, we will use a logistic regression classifier\n",
        "### We find the best parameters for this model using grid search"
      ],
      "metadata": {
        "id": "rilSqd32jSVR"
      }
    },
    {
      "cell_type": "code",
      "source": [
        "# because grid search usually raises warnings\n",
        "warnings.filterwarnings('ignore')\n",
        "\n",
        "# our candidate parameters\n",
        "parameters = {\n",
        "    'penalty' : ['l1','l2'], \n",
        "    'C'       : np.logspace(-3,3,7),\n",
        "    'solver'  : ['newton-cg', 'lbfgs', 'liblinear'],\n",
        "}\n",
        "\n",
        "# define a grid search object\n",
        "clf = GridSearchCV(LogisticRegression(),\n",
        "                   param_grid=parameters,\n",
        "                   scoring='accuracy',\n",
        "                   cv=10)\n",
        "\n",
        "# train classifiers\n",
        "clf.fit(train_features, train_labels)\n",
        "\n",
        "print(\"Tuned Hyperparameters :\", clf.best_params_)\n",
        "print(\"Accuracy:\",clf.best_score_)"
      ],
      "metadata": {
        "id": "zXgCuwADdtbI"
      },
      "execution_count": null,
      "outputs": []
    },
    {
      "cell_type": "markdown",
      "source": [
        "## Now, we create the best model using the hyperparameters that we found"
      ],
      "metadata": {
        "id": "Pyln5XUkkhpZ"
      }
    },
    {
      "cell_type": "code",
      "source": [
        "# best classifier \n",
        "best_clf = LogisticRegression(penalty='l2', C=10.0, solver='newton-cg')\n",
        "\n",
        "best_clf.fit(train_features, train_labels)\n",
        "best_clf.score(test_features, test_labels)"
      ],
      "metadata": {
        "id": "wcmNcAhCHb1a",
        "colab": {
          "base_uri": "https://localhost:8080/"
        },
        "outputId": "98b2d1b0-b96d-4261-f508-4fa329a2465f"
      },
      "execution_count": null,
      "outputs": [
        {
          "output_type": "execute_result",
          "data": {
            "text/plain": [
              "0.86"
            ]
          },
          "metadata": {},
          "execution_count": 18
        }
      ]
    },
    {
      "cell_type": "markdown",
      "source": [
        "### **0.86** accuracy on the test set\n",
        "---\n",
        "## In our final approach, we use the XLMRobertaForSequenceClassification, which basically is a XLMRobertaModel with a classifier layer on top"
      ],
      "metadata": {
        "id": "p2jb8Ofykwag"
      }
    },
    {
      "cell_type": "code",
      "source": [
        "# the weights are the same as XLMRoberta, we just define number of labels which is 2 in our case (Binary Classification)\n",
        "model_3 = XLMRobertaForSequenceClassification.from_pretrained('xlm-roberta-base',\n",
        "                                                              num_labels=2,\n",
        "                                                              output_hidden_states=False,    # we're not gonna need hidden states or attentions\n",
        "                                                              output_attentions=False)       # because the model is gonna do the classification itself\n",
        "# run the model on GPU\n",
        "model_3.cuda()"
      ],
      "metadata": {
        "id": "BpRKRT5nW6d5"
      },
      "execution_count": null,
      "outputs": []
    },
    {
      "cell_type": "markdown",
      "source": [
        "## Unlike previous models, we split the data to train and test before feeding it to BERT "
      ],
      "metadata": {
        "id": "8abU-gqDYZiN"
      }
    },
    {
      "cell_type": "code",
      "source": [
        "# we partition our data in 3 sets, train, validation and test\n",
        "train_size = int(len(all_data) * 0.7)\n",
        "val_size = int(len(all_data) * 0.1)\n",
        "test_size = int(len(all_data) * 0.2)\n",
        "\n",
        "train, val, test = random_split(all_data, [train_size, val_size, test_size])"
      ],
      "metadata": {
        "id": "uNcMHXvQYJi1"
      },
      "execution_count": null,
      "outputs": []
    },
    {
      "cell_type": "markdown",
      "source": [
        "## We define the number of epochs and a learning rate\n",
        "## As in BERT's paper, the recommended values for learning rate, batch size and number of epochs are:\n",
        "\n",
        "*   ### number of epochs: from 2 to 4\n",
        "*   ### learning rate: 2e-5, 3e-5, 5e-5\n",
        "*   ### batch size: 16, 32 \n",
        "\n",
        "\n",
        "\n",
        "\n",
        "\n",
        "\n",
        "\n"
      ],
      "metadata": {
        "id": "kTkEqG1TywIb"
      }
    },
    {
      "cell_type": "code",
      "source": [
        "# selected values\n",
        "n_epochs = 4\n",
        "learning_rate = 2e-5\n",
        "batch_size = 16\n",
        "\n",
        "# we define a dataloader for each set\n",
        "train_dataloader = DataLoader(train, sampler=RandomSampler(train), batch_size=batch_size)\n",
        "val_dataloader = DataLoader(val, sampler=RandomSampler(val), batch_size=batch_size)\n",
        "test_dataloader = DataLoader(test, sampler=RandomSampler(test), batch_size=batch_size)\n",
        "\n",
        "# define an optimizer with selected learning rate value\n",
        "optimizer = AdamW(params = model_3.parameters(),    \n",
        "                  lr = learning_rate)\n",
        "\n",
        "# set a linear scheduler with 0 warmup steps\n",
        "lr_scheduler = get_linear_schedule_with_warmup(optimizer, \n",
        "                                               num_warmup_steps = 0,\n",
        "                                               num_training_steps = len(train_dataloader) * n_epochs)"
      ],
      "metadata": {
        "id": "nBnrSODDcLSr"
      },
      "execution_count": null,
      "outputs": []
    },
    {
      "cell_type": "markdown",
      "source": [
        "## We define a function to calculate accuracy"
      ],
      "metadata": {
        "id": "AhNXQEZQ6TZu"
      }
    },
    {
      "cell_type": "code",
      "source": [
        "def calculate_accuracy(predictions, labels):\n",
        "    # select the higher value in each row of the data and flatten into a numpy array\n",
        "    pred_flat = np.argmax(predictions, axis=1).flatten()\n",
        "    # flatten labels into a numpy array\n",
        "    labels_flat = labels.flatten()\n",
        "    # calculate accuracy\n",
        "    accuracy = np.sum(pred_flat == labels_flat) / len(labels_flat) \n",
        "    \n",
        "    return accuracy "
      ],
      "metadata": {
        "id": "8u-tfz8Tj4ZL"
      },
      "execution_count": null,
      "outputs": []
    },
    {
      "cell_type": "markdown",
      "source": [
        "# Training phase\n",
        "#### takes about 40 minutes"
      ],
      "metadata": {
        "id": "V1Ugh4f67IoM"
      }
    },
    {
      "cell_type": "code",
      "source": [
        "for i in range(n_epochs):\n",
        "\n",
        "  # values used to calculate average loss and accuracy at the end of each epoch\n",
        "  train_loss_per_epoch = 0\n",
        "  val_loss_per_epoch = 0\n",
        "  val_accuracy_per_epoch = 0\n",
        "\n",
        "  # set the model on training mode. this DOES NOT perform a training step.\n",
        "  # we do this because some layers behave differently during train phase and validation phase\n",
        "  model_3.train()\n",
        "\n",
        "  print(\"Epoch \", i+1)\n",
        "  print()\n",
        "\n",
        "  # iterate through all batches in training set\n",
        "  for _, batch in enumerate(train_dataloader):\n",
        "\n",
        "    # copy tensors to GPU, as our model is run on GPU\n",
        "    b_input_ids = batch[0].to(device)\n",
        "    b_input_mask = batch[1].to(device)\n",
        "    b_labels = batch[2].to(device)\n",
        "\n",
        "    # for our purpose, we need to set all previously calculated values to zero.\n",
        "    # the default action is to sum all previous gradients in the loss.backward() step,\n",
        "    # so we need clear values using zero_grad()\n",
        "    model_3.zero_grad()\n",
        "\n",
        "    # fit the model on the batch.\n",
        "    # this phase contains the following steps:\n",
        "    # input -----> fed into BERT -----> output (embeddings) -----> fed into classifier layer on top -----> output (predictions and loss)\n",
        "    outputs = model_3(b_input_ids, \n",
        "                           token_type_ids=None, \n",
        "                           attention_mask=b_input_mask, \n",
        "                           labels=b_labels)  \n",
        "    \n",
        "    loss, logits = outputs[:2]\n",
        "\n",
        "    # sum the loss for all batches\n",
        "    train_loss_per_epoch += loss.item()      \n",
        "\n",
        "    # calculate gradients\n",
        "    loss.backward()\n",
        "\n",
        "    # update parameters\n",
        "    optimizer.step()\n",
        "\n",
        "    # update learning rate\n",
        "    lr_scheduler.step()\n",
        "\n",
        "  # calculate average of the loss in this epoch\n",
        "  loss_avg_train = train_loss_per_epoch/len(train_dataloader)\n",
        "\n",
        "  print(\"Average train loss in epoch {:}: {:}\\n\".format(i+1, loss_avg_train))\n",
        "\n",
        "\n",
        "  # set the model on evaluation mode\n",
        "  model_3.eval()\n",
        "\n",
        "  # iterate through all batches in validation set\n",
        "  # the rest is similar to the training phase, but we don't do back propagation\n",
        "  for _, batch in enumerate(val_dataloader):\n",
        "\n",
        "    b_input_ids = batch[0].to(device)\n",
        "    b_input_mask = batch[1].to(device)\n",
        "    b_labels = batch[2].to(device)\n",
        "\n",
        "    # no need to keep track of gradients in validation\n",
        "    with torch.no_grad():        \n",
        "      outputs = model_3(b_input_ids, \n",
        "                             token_type_ids=None, \n",
        "                             attention_mask=b_input_mask,\n",
        "                             labels=b_labels)\n",
        "      loss, logits = outputs[:2]\n",
        "\n",
        "    val_loss_per_epoch += loss.item()\n",
        "\n",
        "    # to convert these values to numpy arrays, they need to be on the cpu\n",
        "    logits = logits.cpu().numpy()\n",
        "    label_ids = b_labels.cpu().numpy()\n",
        "\n",
        "    # calculate accuracy using our pre-defined function \n",
        "    val_accuracy_per_epoch += calculate_accuracy(logits, label_ids)\n",
        "  \n",
        "  loss_avg_val = val_loss_per_epoch/len(val_dataloader)\n",
        "  accuracy_avg_val = val_accuracy_per_epoch/len(val_dataloader)\n",
        "\n",
        "  print(\"Average val loss in epoch {:}: {:}\\n\".format(i+1, loss_avg_val))\n",
        "  print(\"Average val accuracy in epoch {:}: {:}\\n\".format(i+1, accuracy_avg_val))\n",
        "  print()"
      ],
      "metadata": {
        "colab": {
          "base_uri": "https://localhost:8080/"
        },
        "id": "66E74S4FfVuO",
        "outputId": "feafacd8-b631-4467-d25e-dea6ec211227"
      },
      "execution_count": null,
      "outputs": [
        {
          "output_type": "stream",
          "name": "stdout",
          "text": [
            "Epoch  1\n",
            "\n",
            "Average train loss in epoch 1: 0.3432498910383547\n",
            "\n",
            "Average val loss in epoch 1: 0.31108057681233325\n",
            "\n",
            "Average val accuracy in epoch 1: 0.8865248226950354\n",
            "\n",
            "\n",
            "Epoch  2\n",
            "\n",
            "Average train loss in epoch 2: 0.19583959212949106\n",
            "\n",
            "Average val loss in epoch 2: 0.27106292504183155\n",
            "\n",
            "Average val accuracy in epoch 2: 0.8958333333333333\n",
            "\n",
            "\n",
            "Epoch  3\n",
            "\n",
            "Average train loss in epoch 3: 0.11932560562509108\n",
            "\n",
            "Average val loss in epoch 3: 0.3179190177619061\n",
            "\n",
            "Average val accuracy in epoch 3: 0.8980496453900709\n",
            "\n",
            "\n",
            "Epoch  4\n",
            "\n",
            "Average train loss in epoch 4: 0.06959772049633664\n",
            "\n",
            "Average val loss in epoch 4: 0.3673003558218083\n",
            "\n",
            "Average val accuracy in epoch 4: 0.8927304964539008\n",
            "\n",
            "\n"
          ]
        }
      ]
    },
    {
      "cell_type": "markdown",
      "source": [
        "# Time to test the model!"
      ],
      "metadata": {
        "id": "cc5hvpNO-59w"
      }
    },
    {
      "cell_type": "code",
      "source": [
        "# set the model on evaluation mode\n",
        "model_3.eval()\n",
        "\n",
        "predictions , true_labels = list(), list()\n",
        "\n",
        "test_accuracy = 0\n",
        "\n",
        "# similar to training\n",
        "for _, batch in enumerate(test_dataloader):\n",
        "  \n",
        "  b_input_ids = batch[0].to(device)\n",
        "  b_input_mask = batch[1].to(device)\n",
        "  b_labels = batch[2].to(device)\n",
        "\n",
        "  with torch.no_grad():\n",
        "    \n",
        "      outputs = model_3(b_input_ids, token_type_ids=None, \n",
        "                      attention_mask=b_input_mask)\n",
        "      \n",
        "  logits = outputs[0]\n",
        "\n",
        "  # Move logits and labels to CPU\n",
        "  logits = logits.detach().cpu().numpy()\n",
        "  label_ids = b_labels.to('cpu').numpy()\n",
        "  \n",
        "  test_accuracy += calculate_accuracy(logits, label_ids)\n",
        "\n",
        "accuracy = test_accuracy/len(test_dataloader)\n",
        "print('Accuracy on test set: ', accuracy)"
      ],
      "metadata": {
        "colab": {
          "base_uri": "https://localhost:8080/"
        },
        "id": "ekkWkZBow2K8",
        "outputId": "4f0fc794-0b50-4c9e-f184-0f8d498f120c"
      },
      "execution_count": null,
      "outputs": [
        {
          "output_type": "stream",
          "name": "stdout",
          "text": [
            "Accuracy on test set:  0.921875\n"
          ]
        }
      ]
    },
    {
      "cell_type": "markdown",
      "source": [
        "## We almost reached 92 percent accuracy on the test set!"
      ],
      "metadata": {
        "id": "bFVvSz4AzQ1X"
      }
    },
    {
      "cell_type": "markdown",
      "source": [
        "# Test models on a different language text"
      ],
      "metadata": {
        "id": "vDBNoWQeluT6"
      }
    },
    {
      "cell_type": "code",
      "source": [
        "# I found some text in other languages for testing the models\n",
        "negative_spanish_text = \"Fue la peor película que he visto y no me gustó nada.\"\n",
        "positive_russian_text = \"Мехради не очень застенчив.\"\n",
        "negative_hindi_text = \"मुझे फिल्म बिल्कुल पसंद नहीं आई, यह एक भयानक फिल्म थी, घृणित\"\n",
        "positive_persian_text = \"امروز هوا عالی است\"\n",
        "\n",
        "# get input ids and attention masks for the text       \n",
        "text_input_ids, text_attention_masks = get_ids_and_masks(positive_persian_text, tokenizer) # try different inputs here\n",
        "\n",
        "# copy ids and masks to GPU\n",
        "text_input_ids = text_input_ids.to(device)\n",
        "text_attention_masks = text_attention_masks.to(device)\n",
        "\n",
        "# extract features for the text\n",
        "with torch.no_grad():\n",
        "  last_hidden_state = model(text_input_ids, \n",
        "                                    token_type_ids=None, \n",
        "                                    attention_mask=text_attention_masks)\n",
        "  \n",
        "text_features = last_hidden_state[0][: , 0, :].cpu().numpy()\n",
        "\n",
        "# with torch.no_grad():\n",
        "outputs = model_3(text_input_ids, token_type_ids=None, attention_mask=text_attention_masks)\n",
        "\n",
        "deep_model_prediction = deep_model.predict(text_features)\n",
        "logistic_rg_prediction = best_clf.predict(text_features)\n",
        "logits = outputs[0]\n",
        "\n",
        "print(\"Deep model's prediction is:\", \"Positive\\n\" if deep_model_prediction[0] > 0.5 else \"Negative\\n\")\n",
        "print(\"Logistic regressor's prediction is:\", \"Positive\\n\" if logistic_rg_prediction[0] == 1 else \"Negative\\n\")\n",
        "print(\"XLM classifier's prediction is:\", \"Positive\\n\" if logits.argmax() == 1 else \"Negative\\n\")"
      ],
      "metadata": {
        "colab": {
          "base_uri": "https://localhost:8080/"
        },
        "id": "iNxpfeU3VGrL",
        "outputId": "0e8c6439-ce37-48db-8665-82f3eb722e50"
      },
      "execution_count": null,
      "outputs": [
        {
          "output_type": "stream",
          "name": "stdout",
          "text": [
            "Deep model's prediction is: Positive\n",
            "\n",
            "Logistic regressor's prediction is: Positive\n",
            "\n",
            "XLM classifier's prediction is: Positive\n",
            "\n"
          ]
        }
      ]
    }
  ]
}